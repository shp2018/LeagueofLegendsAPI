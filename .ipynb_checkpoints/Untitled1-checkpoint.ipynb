{
 "cells": [
  {
   "cell_type": "code",
   "execution_count": 18,
   "metadata": {},
   "outputs": [],
   "source": [
    "import json\n",
    "\n",
    "with open('spells.json') as json_file:\n",
    "    spell = json.load(json_file)\n",
    "    key_to_id =  {x[\"key\"] : x[\"id\"] for x in spell}\n",
    "   "
   ]
  },
  {
   "cell_type": "code",
   "execution_count": 19,
   "metadata": {},
   "outputs": [
    {
     "data": {
      "text/plain": [
       "{'barrier': '21',\n",
       " 'boost': '1',\n",
       " 'darkstarchampselect1': '35',\n",
       " 'darkstarchampselect2': '36',\n",
       " 'dot': '14',\n",
       " 'exhaust': '3',\n",
       " 'flash': '4',\n",
       " 'haste': '6',\n",
       " 'heal': '7',\n",
       " 'mana': '13',\n",
       " 'pororecall': '30',\n",
       " 'porothrow': '31',\n",
       " 'siegechampselect1': '33',\n",
       " 'siegechampselect2': '34',\n",
       " 'smite': '11',\n",
       " 'snowurfsnowball_mark': '39',\n",
       " 'snowball': '32',\n",
       " 'teleport': '12'}"
      ]
     },
     "execution_count": 19,
     "metadata": {},
     "output_type": "execute_result"
    }
   ],
   "source": [
    "key_to_id"
   ]
  },
  {
   "cell_type": "code",
   "execution_count": null,
   "metadata": {},
   "outputs": [],
   "source": []
  },
  {
   "cell_type": "code",
   "execution_count": null,
   "metadata": {},
   "outputs": [],
   "source": []
  }
 ],
 "metadata": {
  "kernelspec": {
   "display_name": "Python 3",
   "language": "python",
   "name": "python3"
  },
  "language_info": {
   "codemirror_mode": {
    "name": "ipython",
    "version": 3
   },
   "file_extension": ".py",
   "mimetype": "text/x-python",
   "name": "python",
   "nbconvert_exporter": "python",
   "pygments_lexer": "ipython3",
   "version": "3.7.3"
  }
 },
 "nbformat": 4,
 "nbformat_minor": 2
}
