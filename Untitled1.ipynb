{
 "cells": [
  {
   "cell_type": "code",
   "execution_count": 20,
   "metadata": {},
   "outputs": [],
   "source": [
    "import json\n",
    "\n",
    "with open('spells.json') as json_file:\n",
    "    spell = json.load(json_file)\n",
    "    key_to_id =  {x[\"key\"] : x[\"id\"] for x in spell}\n",
    "   "
   ]
  },
  {
   "cell_type": "code",
   "execution_count": 21,
   "metadata": {},
   "outputs": [
    {
     "data": {
      "text/plain": [
       "{'21': 'barrier',\n",
       " '1': 'boost',\n",
       " '35': 'darkstarchampselect1',\n",
       " '36': 'darkstarchampselect2',\n",
       " '14': 'dot',\n",
       " '3': 'exhaust',\n",
       " '4': 'flash',\n",
       " '6': 'haste',\n",
       " '7': 'heal',\n",
       " '13': 'mana',\n",
       " '30': 'pororecall',\n",
       " '31': 'porothrow',\n",
       " '33': 'siegechampselect1',\n",
       " '34': 'siegechampselect2',\n",
       " '11': 'smite',\n",
       " '39': 'snowurfsnowball_mark',\n",
       " '32': 'snowball',\n",
       " '12': 'teleport'}"
      ]
     },
     "execution_count": 21,
     "metadata": {},
     "output_type": "execute_result"
    }
   ],
   "source": [
    "key_to_id"
   ]
  },
  {
   "cell_type": "code",
   "execution_count": null,
   "metadata": {},
   "outputs": [],
   "source": []
  },
  {
   "cell_type": "code",
   "execution_count": null,
   "metadata": {},
   "outputs": [],
   "source": []
  }
 ],
 "metadata": {
  "kernelspec": {
   "display_name": "Python 3",
   "language": "python",
   "name": "python3"
  },
  "language_info": {
   "codemirror_mode": {
    "name": "ipython",
    "version": 3
   },
   "file_extension": ".py",
   "mimetype": "text/x-python",
   "name": "python",
   "nbconvert_exporter": "python",
   "pygments_lexer": "ipython3",
   "version": "3.7.3"
  }
 },
 "nbformat": 4,
 "nbformat_minor": 2
}
